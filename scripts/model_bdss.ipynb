{
  "nbformat": 4,
  "nbformat_minor": 0,
  "metadata": {
    "colab": {
      "name": "model_bdss.ipynb",
      "provenance": [],
      "collapsed_sections": [],
      "authorship_tag": "ABX9TyO2zv8ysnWjffXnwuX0Ojel",
      "include_colab_link": true
    },
    "kernelspec": {
      "display_name": "Python 3",
      "name": "python3"
    }
  },
  "cells": [
    {
      "cell_type": "markdown",
      "metadata": {
        "id": "view-in-github",
        "colab_type": "text"
      },
      "source": [
        "<a href=\"https://colab.research.google.com/github/Zeddling/BDSS/blob/main/scripts/model_bdss.ipynb\" target=\"_parent\"><img src=\"https://colab.research.google.com/assets/colab-badge.svg\" alt=\"Open In Colab\"/></a>"
      ]
    },
    {
      "cell_type": "code",
      "metadata": {
        "id": "Bv5jK_dVuOtc",
        "colab": {
          "base_uri": "https://localhost:8080/"
        },
        "outputId": "621e4da8-a6d0-45ee-83e6-3b92c429660d"
      },
      "source": [
        "!pip install flask-ngrok"
      ],
      "execution_count": null,
      "outputs": [
        {
          "output_type": "stream",
          "text": [
            "Collecting flask-ngrok\n",
            "  Downloading https://files.pythonhosted.org/packages/af/6c/f54cb686ad1129e27d125d182f90f52b32f284e6c8df58c1bae54fa1adbc/flask_ngrok-0.0.25-py3-none-any.whl\n",
            "Requirement already satisfied: Flask>=0.8 in /usr/local/lib/python3.6/dist-packages (from flask-ngrok) (1.1.2)\n",
            "Requirement already satisfied: requests in /usr/local/lib/python3.6/dist-packages (from flask-ngrok) (2.23.0)\n",
            "Requirement already satisfied: Jinja2>=2.10.1 in /usr/local/lib/python3.6/dist-packages (from Flask>=0.8->flask-ngrok) (2.11.3)\n",
            "Requirement already satisfied: click>=5.1 in /usr/local/lib/python3.6/dist-packages (from Flask>=0.8->flask-ngrok) (7.1.2)\n",
            "Requirement already satisfied: Werkzeug>=0.15 in /usr/local/lib/python3.6/dist-packages (from Flask>=0.8->flask-ngrok) (1.0.1)\n",
            "Requirement already satisfied: itsdangerous>=0.24 in /usr/local/lib/python3.6/dist-packages (from Flask>=0.8->flask-ngrok) (1.1.0)\n",
            "Requirement already satisfied: certifi>=2017.4.17 in /usr/local/lib/python3.6/dist-packages (from requests->flask-ngrok) (2020.12.5)\n",
            "Requirement already satisfied: chardet<4,>=3.0.2 in /usr/local/lib/python3.6/dist-packages (from requests->flask-ngrok) (3.0.4)\n",
            "Requirement already satisfied: idna<3,>=2.5 in /usr/local/lib/python3.6/dist-packages (from requests->flask-ngrok) (2.10)\n",
            "Requirement already satisfied: urllib3!=1.25.0,!=1.25.1,<1.26,>=1.21.1 in /usr/local/lib/python3.6/dist-packages (from requests->flask-ngrok) (1.24.3)\n",
            "Requirement already satisfied: MarkupSafe>=0.23 in /usr/local/lib/python3.6/dist-packages (from Jinja2>=2.10.1->Flask>=0.8->flask-ngrok) (1.1.1)\n",
            "Installing collected packages: flask-ngrok\n",
            "Successfully installed flask-ngrok-0.0.25\n"
          ],
          "name": "stdout"
        }
      ]
    },
    {
      "cell_type": "code",
      "metadata": {
        "id": "QfyWaGu1hCI4",
        "colab": {
          "base_uri": "https://localhost:8080/"
        },
        "outputId": "b8d55f1a-fd73-4ec7-8ceb-ee3bb236ab70"
      },
      "source": [
        "!pip install flask-restful"
      ],
      "execution_count": null,
      "outputs": [
        {
          "output_type": "stream",
          "text": [
            "Collecting flask-restful\n",
            "  Downloading https://files.pythonhosted.org/packages/e9/83/d0d33c971de2d38e54b0037136c8b8d20b9c83d308bc6c220a25162755fd/Flask_RESTful-0.3.8-py2.py3-none-any.whl\n",
            "Requirement already satisfied: pytz in /usr/local/lib/python3.6/dist-packages (from flask-restful) (2018.9)\n",
            "Requirement already satisfied: six>=1.3.0 in /usr/local/lib/python3.6/dist-packages (from flask-restful) (1.15.0)\n",
            "Collecting aniso8601>=0.82\n",
            "\u001b[?25l  Downloading https://files.pythonhosted.org/packages/2c/09/c26ecac7a5e187db69380e66cbad27f8d53ae98b3d5188af08fdd5e34d9f/aniso8601-8.1.1-py2.py3-none-any.whl (44kB)\n",
            "\u001b[K     |████████████████████████████████| 51kB 3.9MB/s \n",
            "\u001b[?25hRequirement already satisfied: Flask>=0.8 in /usr/local/lib/python3.6/dist-packages (from flask-restful) (1.1.2)\n",
            "Requirement already satisfied: click>=5.1 in /usr/local/lib/python3.6/dist-packages (from Flask>=0.8->flask-restful) (7.1.2)\n",
            "Requirement already satisfied: Werkzeug>=0.15 in /usr/local/lib/python3.6/dist-packages (from Flask>=0.8->flask-restful) (1.0.1)\n",
            "Requirement already satisfied: itsdangerous>=0.24 in /usr/local/lib/python3.6/dist-packages (from Flask>=0.8->flask-restful) (1.1.0)\n",
            "Requirement already satisfied: Jinja2>=2.10.1 in /usr/local/lib/python3.6/dist-packages (from Flask>=0.8->flask-restful) (2.11.3)\n",
            "Requirement already satisfied: MarkupSafe>=0.23 in /usr/local/lib/python3.6/dist-packages (from Jinja2>=2.10.1->Flask>=0.8->flask-restful) (1.1.1)\n",
            "Installing collected packages: aniso8601, flask-restful\n",
            "Successfully installed aniso8601-8.1.1 flask-restful-0.3.8\n"
          ],
          "name": "stdout"
        }
      ]
    },
    {
      "cell_type": "code",
      "metadata": {
        "id": "oPN8btAAyEBS",
        "colab": {
          "base_uri": "https://localhost:8080/"
        },
        "outputId": "ad33ee6c-a68c-49f3-e81e-1a47ff6fd9ab"
      },
      "source": [
        "from google.colab import drive\n",
        "drive.mount('/content/drive/')"
      ],
      "execution_count": null,
      "outputs": [
        {
          "output_type": "stream",
          "text": [
            "Mounted at /content/drive/\n"
          ],
          "name": "stdout"
        }
      ]
    },
    {
      "cell_type": "markdown",
      "metadata": {
        "id": "paW8vUg9ut-0"
      },
      "source": [
        "# Imports"
      ]
    },
    {
      "cell_type": "code",
      "metadata": {
        "id": "ziJLhnmUuxUH"
      },
      "source": [
        "import cv2\n",
        "from flask_ngrok import run_with_ngrok\n",
        "from flask import Flask, jsonify, request\n",
        "from flask_restful import Resource, Api, reqparse\n",
        "import numpy as np\n",
        "import tensorflow as tf\n",
        "from tensorflow import keras\n",
        "import werkzeug"
      ],
      "execution_count": null,
      "outputs": []
    },
    {
      "cell_type": "code",
      "metadata": {
        "id": "nyVEttsevPF3"
      },
      "source": [
        "app = Flask(__name__)\n",
        "api = Api(app)\n",
        "run_with_ngrok(app)   #starts ngrok when the app is run"
      ],
      "execution_count": null,
      "outputs": []
    },
    {
      "cell_type": "code",
      "metadata": {
        "id": "H7unWRIDwHSz"
      },
      "source": [
        "def gray_scale(img):\n",
        "  return cv2.cvtColor(img, cv2.COLOR_RGB2GRAY)"
      ],
      "execution_count": null,
      "outputs": []
    },
    {
      "cell_type": "code",
      "metadata": {
        "id": "QPQpXXU8wRIL"
      },
      "source": [
        "def threshold(img):\n",
        "  kernel = np.ones((3,10), np.uint8)\n",
        "  blur = cv2.GaussianBlur(img, (5,5), 0)\n",
        "  img_thresh = cv2.threshold(img, 0, 255, cv2.THRESH_BINARY+cv2.THRESH_OTSU)[1]\n",
        "  img_dilate = cv2.dilate(img_thresh, kernel, iterations=1)\n",
        "  img_erode = cv2.erode(img_dilate, kernel, iterations=1)\n",
        "  return cv2.medianBlur(img_erode, 7)"
      ],
      "execution_count": null,
      "outputs": []
    },
    {
      "cell_type": "code",
      "metadata": {
        "id": "wev3XM7twVQ1"
      },
      "source": [
        "def make_clearer(img):\n",
        "  blur = cv2.GaussianBlur( img, (5,5), 0 )\n",
        "  clahe = cv2.createCLAHE(clipLimit=5)\n",
        "  clear_img = clahe.apply(img) + 30\n",
        "  return cv2.cvtColor(clear_img, cv2.COLOR_GRAY2RGB)"
      ],
      "execution_count": null,
      "outputs": []
    },
    {
      "cell_type": "code",
      "metadata": {
        "id": "lVwhtXwtwce3"
      },
      "source": [
        "def mask_and_segment(img, original_image):\n",
        "  cnt = sorted(cv2.findContours(img, cv2.RETR_LIST, cv2.CHAIN_APPROX_SIMPLE)[-2], key=cv2.contourArea)[-1]\n",
        "  mask = np.zeros((227, 227), np.uint8)\n",
        "  cv2.drawContours(mask, [cnt], -1, 255, -1)\n",
        "  dst = cv2.bitwise_and(original_image, original_image, mask=mask)\n",
        "  segmented_img = cv2.cvtColor(dst, cv2.COLOR_BGR2GRAY)\n",
        "  return make_clearer(segmented_img)"
      ],
      "execution_count": null,
      "outputs": []
    },
    {
      "cell_type": "code",
      "metadata": {
        "id": "PegWpYHmwtxn"
      },
      "source": [
        "import os\n",
        "\n",
        "def process_single_image(img_file):\n",
        "  output_dir = \"/content/clean_\"+os.path.basename(img_file)\n",
        "  print(output_dir)\n",
        "  img_mat = cv2.imread(img_file)\n",
        "  img = cv2.resize( img_mat, (227, 227), interpolation=cv2.INTER_AREA )\n",
        "  gray = gray_scale(img)\n",
        "  thresh = threshold(gray)\n",
        "  segmented = mask_and_segment(thresh, img)\n",
        "  cv2.imwrite(output_dir, segmented)\n",
        "  return output_dir"
      ],
      "execution_count": null,
      "outputs": []
    },
    {
      "cell_type": "code",
      "metadata": {
        "id": "n85ffGF9xbqc"
      },
      "source": [
        "def AlexNet():\n",
        "  return tf.keras.models.load_model(\"/content/drive/MyDrive/BDSS/clahe_equalized_split/alexnet_v3.h5\")"
      ],
      "execution_count": null,
      "outputs": []
    },
    {
      "cell_type": "code",
      "metadata": {
        "id": "JCooqm7WxUpH"
      },
      "source": [
        "def infer(filepath):\n",
        "  print(\"Making inferrence\")\n",
        "  class_names = ['benign', 'malignant', 'normal']\n",
        "  img_path = process_single_image(filepath)\n",
        "  print(img_path)\n",
        "  img = cv2.imread(img_path)\n",
        "  np_img_data = np.asarray(img)\n",
        "  rescale_img_data = cv2.normalize(np_img_data.astype('float'), None, alpha=0, beta=1, norm_type=cv2.NORM_MINMAX, dtype=cv2.CV_32F)\n",
        "  img_array = np.expand_dims(rescale_img_data, axis=0)\n",
        "  print(\"Predicting......{}\" )\n",
        "  model = AlexNet()\n",
        "  predictions = model.predict(img_array)\n",
        "  score = tf.nn.softmax(predictions[0])\n",
        "  pred = score.numpy()\n",
        "  print(score)\n",
        "  return jsonify({\n",
        "      \"class_name\": class_names[np.argmax(score)],\n",
        "      \"benign\": 100 * pred[0],\n",
        "      \"malignant\": 100 * pred[1],\n",
        "      \"normal\": 100 * pred[2]\n",
        "  })"
      ],
      "execution_count": null,
      "outputs": []
    },
    {
      "cell_type": "code",
      "metadata": {
        "colab": {
          "base_uri": "https://localhost:8080/"
        },
        "id": "_EUdPbsrvSA8",
        "outputId": "46231ad6-55b8-4c4e-ec8e-2b2206933ffd"
      },
      "source": [
        "class ____Inference___(Resource):\n",
        "  def post(self):\n",
        "    parse = reqparse.RequestParser()\n",
        "    parse.add_argument('file', type=werkzeug.datastructures.FileStorage, location='files')\n",
        "    args = parse.parse_args()\n",
        "    image = args['file']\n",
        "    output_dir = \"/content/\"+image.filename\n",
        "    image.save(output_dir)\n",
        "    return infer(output_dir)\n",
        "\n",
        "api.add_resource(____Inference___, \"/infer\")\n",
        "if __name__ == '__main__':\n",
        "   app.run()"
      ],
      "execution_count": null,
      "outputs": [
        {
          "output_type": "stream",
          "text": [
            " * Serving Flask app \"__main__\" (lazy loading)\n",
            " * Environment: production\n",
            "\u001b[31m   WARNING: This is a development server. Do not use it in a production deployment.\u001b[0m\n",
            "\u001b[2m   Use a production WSGI server instead.\u001b[0m\n",
            " * Debug mode: off\n"
          ],
          "name": "stdout"
        },
        {
          "output_type": "stream",
          "text": [
            " * Running on http://127.0.0.1:5000/ (Press CTRL+C to quit)\n"
          ],
          "name": "stderr"
        },
        {
          "output_type": "stream",
          "text": [
            " * Running on http://9b0f340bb7d4.ngrok.io\n",
            " * Traffic stats available on http://127.0.0.1:4040\n",
            "Making inferrence\n",
            "/content/clean_20586934 (6).png\n",
            "/content/clean_20586934 (6).png\n",
            "Predicting......{}\n"
          ],
          "name": "stdout"
        },
        {
          "output_type": "stream",
          "text": [
            "127.0.0.1 - - [10/Feb/2021 07:39:22] \"\u001b[37mPOST /infer HTTP/1.1\u001b[0m\" 200 -\n"
          ],
          "name": "stderr"
        },
        {
          "output_type": "stream",
          "text": [
            "tf.Tensor([0.21194185 0.5761154  0.21194272], shape=(3,), dtype=float32)\n",
            "Making inferrence\n",
            "/content/clean_20586934.png\n",
            "/content/clean_20586934.png\n",
            "Predicting......{}\n"
          ],
          "name": "stdout"
        },
        {
          "output_type": "stream",
          "text": [
            "127.0.0.1 - - [10/Feb/2021 08:02:10] \"\u001b[37mPOST /infer HTTP/1.1\u001b[0m\" 200 -\n"
          ],
          "name": "stderr"
        },
        {
          "output_type": "stream",
          "text": [
            "tf.Tensor([0.21194316 0.5761093  0.21194758], shape=(3,), dtype=float32)\n"
          ],
          "name": "stdout"
        }
      ]
    }
  ]
}