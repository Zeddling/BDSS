{
 "metadata": {
  "language_info": {
   "codemirror_mode": {
    "name": "ipython",
    "version": 3
   },
   "file_extension": ".py",
   "mimetype": "text/x-python",
   "name": "python",
   "nbconvert_exporter": "python",
   "pygments_lexer": "ipython3",
   "version": "3.8.6-final"
  },
  "orig_nbformat": 2,
  "kernelspec": {
   "name": "venv",
   "display_name": "venv",
   "language": "python"
  }
 },
 "nbformat": 4,
 "nbformat_minor": 2,
 "cells": [
  {
   "cell_type": "code",
   "execution_count": 13,
   "metadata": {},
   "outputs": [],
   "source": [
    "import cv2\n",
    "import pydicom as dicom\n",
    "import keras\n",
    "from keras.layers import Dense, Dropout, Flatten\n",
    "from keras.layers import Conv2D, MaxPooling2D\n",
    "from keras.models import Sequential\n",
    "from keras.utils import to_categorical\n",
    "import matplotlib.pyplot as plt\n",
    "from matplotlib import cm\n",
    "import numpy as np\n",
    "import os\n",
    "import pandas as pd\n",
    "from PIL import Image\n",
    "import shutil\n",
    "import tensorflow as tf\n",
    "from tqdm import tqdm\n",
    "\n",
    "%matplotlib inline"
   ]
  },
  {
   "cell_type": "code",
   "execution_count": 3,
   "metadata": {},
   "outputs": [
    {
     "output_type": "execute_result",
     "data": {
      "text/plain": [
       "  patient_id  breast density left or right breast image view  abnormality id  \\\n",
       "0    P_00005               3                RIGHT         CC               1   \n",
       "1    P_00005               3                RIGHT        MLO               1   \n",
       "2    P_00007               4                 LEFT         CC               1   \n",
       "3    P_00007               4                 LEFT        MLO               1   \n",
       "4    P_00008               1                 LEFT         CC               1   \n",
       "\n",
       "  abnormality type    calc type calc distribution  assessment  \\\n",
       "0    calcification    AMORPHOUS         CLUSTERED           3   \n",
       "1    calcification    AMORPHOUS         CLUSTERED           3   \n",
       "2    calcification  PLEOMORPHIC            LINEAR           4   \n",
       "3    calcification  PLEOMORPHIC            LINEAR           4   \n",
       "4    calcification          NaN          REGIONAL           2   \n",
       "\n",
       "                 pathology  subtlety  \\\n",
       "0                MALIGNANT         3   \n",
       "1                MALIGNANT         3   \n",
       "2                   BENIGN         4   \n",
       "3                   BENIGN         4   \n",
       "4  BENIGN_WITHOUT_CALLBACK         3   \n",
       "\n",
       "                                     image file path  \\\n",
       "0  Calc-Training_P_00005_RIGHT_CC/1.3.6.1.4.1.959...   \n",
       "1  Calc-Training_P_00005_RIGHT_MLO/1.3.6.1.4.1.95...   \n",
       "2  Calc-Training_P_00007_LEFT_CC/1.3.6.1.4.1.9590...   \n",
       "3  Calc-Training_P_00007_LEFT_MLO/1.3.6.1.4.1.959...   \n",
       "4  Calc-Training_P_00008_LEFT_CC/1.3.6.1.4.1.9590...   \n",
       "\n",
       "                             cropped image file path  \\\n",
       "0  Calc-Training_P_00005_RIGHT_CC_1/1.3.6.1.4.1.9...   \n",
       "1  Calc-Training_P_00005_RIGHT_MLO_1/1.3.6.1.4.1....   \n",
       "2  Calc-Training_P_00007_LEFT_CC_1/1.3.6.1.4.1.95...   \n",
       "3  Calc-Training_P_00007_LEFT_MLO_1/1.3.6.1.4.1.9...   \n",
       "4  Calc-Training_P_00008_LEFT_CC_1/1.3.6.1.4.1.95...   \n",
       "\n",
       "                                  ROI mask file path  \n",
       "0  Calc-Training_P_00005_RIGHT_CC_1/1.3.6.1.4.1.9...  \n",
       "1  Calc-Training_P_00005_RIGHT_MLO_1/1.3.6.1.4.1....  \n",
       "2  Calc-Training_P_00007_LEFT_CC_1/1.3.6.1.4.1.95...  \n",
       "3  Calc-Training_P_00007_LEFT_MLO_1/1.3.6.1.4.1.9...  \n",
       "4  Calc-Training_P_00008_LEFT_CC_1/1.3.6.1.4.1.95...  "
      ],
      "text/html": "<div>\n<style scoped>\n    .dataframe tbody tr th:only-of-type {\n        vertical-align: middle;\n    }\n\n    .dataframe tbody tr th {\n        vertical-align: top;\n    }\n\n    .dataframe thead th {\n        text-align: right;\n    }\n</style>\n<table border=\"1\" class=\"dataframe\">\n  <thead>\n    <tr style=\"text-align: right;\">\n      <th></th>\n      <th>patient_id</th>\n      <th>breast density</th>\n      <th>left or right breast</th>\n      <th>image view</th>\n      <th>abnormality id</th>\n      <th>abnormality type</th>\n      <th>calc type</th>\n      <th>calc distribution</th>\n      <th>assessment</th>\n      <th>pathology</th>\n      <th>subtlety</th>\n      <th>image file path</th>\n      <th>cropped image file path</th>\n      <th>ROI mask file path</th>\n    </tr>\n  </thead>\n  <tbody>\n    <tr>\n      <th>0</th>\n      <td>P_00005</td>\n      <td>3</td>\n      <td>RIGHT</td>\n      <td>CC</td>\n      <td>1</td>\n      <td>calcification</td>\n      <td>AMORPHOUS</td>\n      <td>CLUSTERED</td>\n      <td>3</td>\n      <td>MALIGNANT</td>\n      <td>3</td>\n      <td>Calc-Training_P_00005_RIGHT_CC/1.3.6.1.4.1.959...</td>\n      <td>Calc-Training_P_00005_RIGHT_CC_1/1.3.6.1.4.1.9...</td>\n      <td>Calc-Training_P_00005_RIGHT_CC_1/1.3.6.1.4.1.9...</td>\n    </tr>\n    <tr>\n      <th>1</th>\n      <td>P_00005</td>\n      <td>3</td>\n      <td>RIGHT</td>\n      <td>MLO</td>\n      <td>1</td>\n      <td>calcification</td>\n      <td>AMORPHOUS</td>\n      <td>CLUSTERED</td>\n      <td>3</td>\n      <td>MALIGNANT</td>\n      <td>3</td>\n      <td>Calc-Training_P_00005_RIGHT_MLO/1.3.6.1.4.1.95...</td>\n      <td>Calc-Training_P_00005_RIGHT_MLO_1/1.3.6.1.4.1....</td>\n      <td>Calc-Training_P_00005_RIGHT_MLO_1/1.3.6.1.4.1....</td>\n    </tr>\n    <tr>\n      <th>2</th>\n      <td>P_00007</td>\n      <td>4</td>\n      <td>LEFT</td>\n      <td>CC</td>\n      <td>1</td>\n      <td>calcification</td>\n      <td>PLEOMORPHIC</td>\n      <td>LINEAR</td>\n      <td>4</td>\n      <td>BENIGN</td>\n      <td>4</td>\n      <td>Calc-Training_P_00007_LEFT_CC/1.3.6.1.4.1.9590...</td>\n      <td>Calc-Training_P_00007_LEFT_CC_1/1.3.6.1.4.1.95...</td>\n      <td>Calc-Training_P_00007_LEFT_CC_1/1.3.6.1.4.1.95...</td>\n    </tr>\n    <tr>\n      <th>3</th>\n      <td>P_00007</td>\n      <td>4</td>\n      <td>LEFT</td>\n      <td>MLO</td>\n      <td>1</td>\n      <td>calcification</td>\n      <td>PLEOMORPHIC</td>\n      <td>LINEAR</td>\n      <td>4</td>\n      <td>BENIGN</td>\n      <td>4</td>\n      <td>Calc-Training_P_00007_LEFT_MLO/1.3.6.1.4.1.959...</td>\n      <td>Calc-Training_P_00007_LEFT_MLO_1/1.3.6.1.4.1.9...</td>\n      <td>Calc-Training_P_00007_LEFT_MLO_1/1.3.6.1.4.1.9...</td>\n    </tr>\n    <tr>\n      <th>4</th>\n      <td>P_00008</td>\n      <td>1</td>\n      <td>LEFT</td>\n      <td>CC</td>\n      <td>1</td>\n      <td>calcification</td>\n      <td>NaN</td>\n      <td>REGIONAL</td>\n      <td>2</td>\n      <td>BENIGN_WITHOUT_CALLBACK</td>\n      <td>3</td>\n      <td>Calc-Training_P_00008_LEFT_CC/1.3.6.1.4.1.9590...</td>\n      <td>Calc-Training_P_00008_LEFT_CC_1/1.3.6.1.4.1.95...</td>\n      <td>Calc-Training_P_00008_LEFT_CC_1/1.3.6.1.4.1.95...</td>\n    </tr>\n  </tbody>\n</table>\n</div>"
     },
     "metadata": {},
     "execution_count": 3
    }
   ],
   "source": [
    "#   Load datasets\n",
    "calc_train_df_original = pd.read_csv(\"Calc_Train/CBIS-DDSM/calc_case_description_train_set.csv\")\n",
    "calc_test_df_original = pd.read_csv(\"Calc_Test/CBIS-DDSM/calc_case_description_test_set.csv\")\n",
    "\n",
    "mass_train_df_original = pd.read_csv(\"Mass_Train/CBIS-DDSM/mass_case_description_train_set.csv\")\n",
    "mass_test_df_original = pd.read_csv(\"Mass_Test/CBIS-DDSM/mass_case_description_test_set.csv\")\n",
    "\n",
    "#   Remove unwanted labels. In our case the last three columns\n",
    "\n",
    "calc_train_df_original.head()"
   ]
  },
  {
   "cell_type": "code",
   "execution_count": 6,
   "metadata": {},
   "outputs": [
    {
     "output_type": "execute_result",
     "data": {
      "text/plain": [
       "     patient_id                pathology\n",
       "0       P_00005                MALIGNANT\n",
       "1       P_00005                MALIGNANT\n",
       "2       P_00007                   BENIGN\n",
       "3       P_00007                   BENIGN\n",
       "4       P_00008  BENIGN_WITHOUT_CALLBACK\n",
       "...         ...                      ...\n",
       "1541    P_02566                MALIGNANT\n",
       "1542    P_02572                MALIGNANT\n",
       "1543    P_02572                MALIGNANT\n",
       "1544    P_02584                   BENIGN\n",
       "1545    P_02584                   BENIGN\n",
       "\n",
       "[1546 rows x 2 columns]"
      ],
      "text/html": "<div>\n<style scoped>\n    .dataframe tbody tr th:only-of-type {\n        vertical-align: middle;\n    }\n\n    .dataframe tbody tr th {\n        vertical-align: top;\n    }\n\n    .dataframe thead th {\n        text-align: right;\n    }\n</style>\n<table border=\"1\" class=\"dataframe\">\n  <thead>\n    <tr style=\"text-align: right;\">\n      <th></th>\n      <th>patient_id</th>\n      <th>pathology</th>\n    </tr>\n  </thead>\n  <tbody>\n    <tr>\n      <th>0</th>\n      <td>P_00005</td>\n      <td>MALIGNANT</td>\n    </tr>\n    <tr>\n      <th>1</th>\n      <td>P_00005</td>\n      <td>MALIGNANT</td>\n    </tr>\n    <tr>\n      <th>2</th>\n      <td>P_00007</td>\n      <td>BENIGN</td>\n    </tr>\n    <tr>\n      <th>3</th>\n      <td>P_00007</td>\n      <td>BENIGN</td>\n    </tr>\n    <tr>\n      <th>4</th>\n      <td>P_00008</td>\n      <td>BENIGN_WITHOUT_CALLBACK</td>\n    </tr>\n    <tr>\n      <th>...</th>\n      <td>...</td>\n      <td>...</td>\n    </tr>\n    <tr>\n      <th>1541</th>\n      <td>P_02566</td>\n      <td>MALIGNANT</td>\n    </tr>\n    <tr>\n      <th>1542</th>\n      <td>P_02572</td>\n      <td>MALIGNANT</td>\n    </tr>\n    <tr>\n      <th>1543</th>\n      <td>P_02572</td>\n      <td>MALIGNANT</td>\n    </tr>\n    <tr>\n      <th>1544</th>\n      <td>P_02584</td>\n      <td>BENIGN</td>\n    </tr>\n    <tr>\n      <th>1545</th>\n      <td>P_02584</td>\n      <td>BENIGN</td>\n    </tr>\n  </tbody>\n</table>\n<p>1546 rows × 2 columns</p>\n</div>"
     },
     "metadata": {},
     "execution_count": 6
    }
   ],
   "source": [
    "#   Preprocess data\n",
    "##  Change values of all benign without callback to benign\n",
    "\n",
    "def createDF(patient_id, pathology):\n",
    "    data = {\n",
    "        \"patient_id\": patient_id,\n",
    "        \"pathology\": pathology\n",
    "    }\n",
    "    return pd.concat( data, axis=1 )\n",
    "\n",
    "calc_train_data = createDF(calc_train_df_original[\"patient_id\"], calc_train_df_original[\"pathology\"]) \n",
    "calc_test_data = createDF(calc_test_df_original[\"patient_id\"], calc_test_df_original[\"pathology\"])\n",
    "mass_train_data = createDF(mass_train_df_original[\"patient_id\"], mass_train_df_original[\"pathology\"])\n",
    "mass_test_data = createDF(mass_test_df_original[\"patient_id\"], mass_test_df_original[\"pathology\"])"
   ]
  },
  {
   "cell_type": "code",
   "execution_count": 14,
   "metadata": {},
   "outputs": [],
   "source": [
    "#   Data preprocessing\n",
    "##  Steps\n",
    "### 1. Extract png from dcm file\n",
    "### 2. Rename file with directory file name\n",
    "\n",
    "def extractDCMAndSave( dcmFilePath, directory, filename ):\n",
    "    ds = dicom.dcmread( dcmFilePath )\n",
    "    ds = ds.pixel_array * 128\n",
    "    img = Image.fromarray(ds, 'RGB')\n",
    "    img.save(directory + filename + \".png\" )"
   ]
  },
  {
   "cell_type": "code",
   "execution_count": 23,
   "metadata": {},
   "outputs": [
    {
     "output_type": "error",
     "ename": "FileNotFoundError",
     "evalue": "[Errno 2] No such file or directory: 'Calc_Test/Calc-Test_P_00038_LEFT_CC_1/1.3.6.1.4.1.9590.100.1.2.161465562211359959230647609981488894942/1.3.6.1.4.1.9590.100.1.2.419081637812053404913157930753972718515/000001.dcm'",
     "traceback": [
      "\u001b[0;31m---------------------------------------------------------------------------\u001b[0m",
      "\u001b[0;31mFileNotFoundError\u001b[0m                         Traceback (most recent call last)",
      "\u001b[0;32m<ipython-input-23-61128227898b>\u001b[0m in \u001b[0;36m<module>\u001b[0;34m\u001b[0m\n\u001b[1;32m      5\u001b[0m     \u001b[0mpath\u001b[0m \u001b[0;34m=\u001b[0m \u001b[0mcalc_test_df_original\u001b[0m\u001b[0;34m.\u001b[0m\u001b[0mloc\u001b[0m\u001b[0;34m[\u001b[0m\u001b[0mi\u001b[0m\u001b[0;34m,\u001b[0m \u001b[0;34m\"cropped image file path\"\u001b[0m\u001b[0;34m]\u001b[0m\u001b[0;34m\u001b[0m\u001b[0;34m\u001b[0m\u001b[0m\n\u001b[1;32m      6\u001b[0m     \u001b[0mpathList\u001b[0m \u001b[0;34m=\u001b[0m \u001b[0mpath\u001b[0m\u001b[0;34m.\u001b[0m\u001b[0msplit\u001b[0m\u001b[0;34m(\u001b[0m\u001b[0;34m'\\n'\u001b[0m\u001b[0;34m)\u001b[0m\u001b[0;34m\u001b[0m\u001b[0;34m\u001b[0m\u001b[0m\n\u001b[0;32m----> 7\u001b[0;31m     \u001b[0mextractDCMAndSave\u001b[0m\u001b[0;34m(\u001b[0m \u001b[0;34m\"Calc_Test/\"\u001b[0m \u001b[0;34m+\u001b[0m \u001b[0mstr\u001b[0m\u001b[0;34m(\u001b[0m\u001b[0mpathList\u001b[0m\u001b[0;34m[\u001b[0m\u001b[0;36m0\u001b[0m\u001b[0;34m]\u001b[0m\u001b[0;34m)\u001b[0m\u001b[0;34m,\u001b[0m \u001b[0mdirectory\u001b[0m\u001b[0;34m,\u001b[0m \u001b[0mfilename\u001b[0m \u001b[0;34m)\u001b[0m\u001b[0;34m\u001b[0m\u001b[0;34m\u001b[0m\u001b[0m\n\u001b[0m",
      "\u001b[0;32m<ipython-input-14-dbf4b28031f6>\u001b[0m in \u001b[0;36mextractDCMAndSave\u001b[0;34m(dcmFilePath, directory, filename)\u001b[0m\n\u001b[1;32m      5\u001b[0m \u001b[0;34m\u001b[0m\u001b[0m\n\u001b[1;32m      6\u001b[0m \u001b[0;32mdef\u001b[0m \u001b[0mextractDCMAndSave\u001b[0m\u001b[0;34m(\u001b[0m \u001b[0mdcmFilePath\u001b[0m\u001b[0;34m,\u001b[0m \u001b[0mdirectory\u001b[0m\u001b[0;34m,\u001b[0m \u001b[0mfilename\u001b[0m \u001b[0;34m)\u001b[0m\u001b[0;34m:\u001b[0m\u001b[0;34m\u001b[0m\u001b[0;34m\u001b[0m\u001b[0m\n\u001b[0;32m----> 7\u001b[0;31m     \u001b[0mds\u001b[0m \u001b[0;34m=\u001b[0m \u001b[0mdicom\u001b[0m\u001b[0;34m.\u001b[0m\u001b[0mdcmread\u001b[0m\u001b[0;34m(\u001b[0m \u001b[0mdcmFilePath\u001b[0m \u001b[0;34m)\u001b[0m\u001b[0;34m\u001b[0m\u001b[0;34m\u001b[0m\u001b[0m\n\u001b[0m\u001b[1;32m      8\u001b[0m     \u001b[0mds\u001b[0m \u001b[0;34m=\u001b[0m \u001b[0mds\u001b[0m\u001b[0;34m.\u001b[0m\u001b[0mpixel_array\u001b[0m \u001b[0;34m*\u001b[0m \u001b[0;36m128\u001b[0m\u001b[0;34m\u001b[0m\u001b[0;34m\u001b[0m\u001b[0m\n\u001b[1;32m      9\u001b[0m     \u001b[0mimg\u001b[0m \u001b[0;34m=\u001b[0m \u001b[0mImage\u001b[0m\u001b[0;34m.\u001b[0m\u001b[0mfromarray\u001b[0m\u001b[0;34m(\u001b[0m\u001b[0mds\u001b[0m\u001b[0;34m,\u001b[0m \u001b[0;34m'RGB'\u001b[0m\u001b[0;34m)\u001b[0m\u001b[0;34m\u001b[0m\u001b[0;34m\u001b[0m\u001b[0m\n",
      "\u001b[0;32m~/Documents/BDSS_MODEL/venv/lib/python3.8/site-packages/pydicom/filereader.py\u001b[0m in \u001b[0;36mdcmread\u001b[0;34m(fp, defer_size, stop_before_pixels, force, specific_tags)\u001b[0m\n\u001b[1;32m    859\u001b[0m         \u001b[0mcaller_owns_file\u001b[0m \u001b[0;34m=\u001b[0m \u001b[0;32mFalse\u001b[0m\u001b[0;34m\u001b[0m\u001b[0;34m\u001b[0m\u001b[0m\n\u001b[1;32m    860\u001b[0m         \u001b[0mlogger\u001b[0m\u001b[0;34m.\u001b[0m\u001b[0mdebug\u001b[0m\u001b[0;34m(\u001b[0m\u001b[0;34m\"Reading file '{0}'\"\u001b[0m\u001b[0;34m.\u001b[0m\u001b[0mformat\u001b[0m\u001b[0;34m(\u001b[0m\u001b[0mfp\u001b[0m\u001b[0;34m)\u001b[0m\u001b[0;34m)\u001b[0m\u001b[0;34m\u001b[0m\u001b[0;34m\u001b[0m\u001b[0m\n\u001b[0;32m--> 861\u001b[0;31m         \u001b[0mfp\u001b[0m \u001b[0;34m=\u001b[0m \u001b[0mopen\u001b[0m\u001b[0;34m(\u001b[0m\u001b[0mfp\u001b[0m\u001b[0;34m,\u001b[0m \u001b[0;34m'rb'\u001b[0m\u001b[0;34m)\u001b[0m\u001b[0;34m\u001b[0m\u001b[0;34m\u001b[0m\u001b[0m\n\u001b[0m\u001b[1;32m    862\u001b[0m     \u001b[0;32melif\u001b[0m \u001b[0mfp\u001b[0m \u001b[0;32mis\u001b[0m \u001b[0;32mNone\u001b[0m \u001b[0;32mor\u001b[0m \u001b[0;32mnot\u001b[0m \u001b[0mhasattr\u001b[0m\u001b[0;34m(\u001b[0m\u001b[0mfp\u001b[0m\u001b[0;34m,\u001b[0m \u001b[0;34m\"read\"\u001b[0m\u001b[0;34m)\u001b[0m \u001b[0;32mor\u001b[0m \u001b[0;32mnot\u001b[0m \u001b[0mhasattr\u001b[0m\u001b[0;34m(\u001b[0m\u001b[0mfp\u001b[0m\u001b[0;34m,\u001b[0m \u001b[0;34m\"seek\"\u001b[0m\u001b[0;34m)\u001b[0m\u001b[0;34m:\u001b[0m\u001b[0;34m\u001b[0m\u001b[0;34m\u001b[0m\u001b[0m\n\u001b[1;32m    863\u001b[0m         raise TypeError(\"dcmread: Expected a file path or a file-like, \"\n",
      "\u001b[0;31mFileNotFoundError\u001b[0m: [Errno 2] No such file or directory: 'Calc_Test/Calc-Test_P_00038_LEFT_CC_1/1.3.6.1.4.1.9590.100.1.2.161465562211359959230647609981488894942/1.3.6.1.4.1.9590.100.1.2.419081637812053404913157930753972718515/000001.dcm'"
     ]
    }
   ],
   "source": [
    "#   Calc Test\n",
    "for i in range(len(calc_test_df_original)):\n",
    "    filename = calc_test_df_original.loc[i, \"patient_id\"] + \"_\" + calc_test_df_original.loc[i, \"left or right breast\"] + \"_\" + calc_test_df_original.loc[i, \"image view\"]\n",
    "    directory = \"calcifications_test/\"\n",
    "    path = calc_test_df_original.loc[i, \"cropped image file path\"]\n",
    "    pathList = path.split('\\n')\n",
    "    extractDCMAndSave( \"Calc_Test/\" + str(pathList[0]), directory, filename )"
   ]
  },
  {
   "cell_type": "code",
   "execution_count": null,
   "metadata": {},
   "outputs": [],
   "source": []
  }
 ]
}